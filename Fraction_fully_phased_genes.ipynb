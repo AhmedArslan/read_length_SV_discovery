{
 "cells": [
  {
   "cell_type": "markdown",
   "metadata": {},
   "source": [
    "# Fraction of fully phased genes"
   ]
  },
  {
   "cell_type": "markdown",
   "metadata": {},
   "source": [
    "Shell code\n",
    "```\n",
    "zcat Homo_sapiens.GRCh38.95.gtf.gz \\\n",
    " | awk '$3 = \"transcript\"' OFS=\"\\t\" \\\n",
    " | cut -f1,4,5,10 \\\n",
    " | grep -v '^#' \\\n",
    " | sed 's/\"//g' | sed 's/;$//' |  sed 's/^/chr/' \\\n",
    " | sort -k4,4 \\\n",
    " | bedtools groupby -g 1,4 -c 2,3 -o min,max \\\n",
    " | awk -v OFS='\\t' '{print $1, $3, $4, $2}' \\\n",
    " | bedtools sort > GRCh38-genes.bed\n",
    "\n",
    "ls *.gtf | parallel 'c=$(bedtools subtract -a GRCh38-genes.bed -b {} | cut -f4 | sort -u | wc -l) ;\n",
    "                              n=$(echo {} | cut -f1 -d'_' | cut -f2 -d'-') ;\n",
    "                              echo $n $c | tr \" \" \"\\t\"' | sort -k1,1n > non-contained-gene-counts.txt\n",
    "\n",
    "```"
   ]
  },
  {
   "cell_type": "code",
   "execution_count": 1,
   "metadata": {},
   "outputs": [],
   "source": [
    "import pandas as pd\n",
    "import matplotlib.pyplot as plt"
   ]
  },
  {
   "cell_type": "code",
   "execution_count": 2,
   "metadata": {},
   "outputs": [],
   "source": [
    "dfg = pd.read_csv(\"non-contained-gene-counts.txt\", sep=\"\\t\", header=None, names=['readlength', 'non-phased'])\n",
    "dfg[\"phased-frac\"] = (58735 - dfg[\"non-phased\"]) / 58735"
   ]
  },
  {
   "cell_type": "code",
   "execution_count": 3,
   "metadata": {},
   "outputs": [],
   "source": [
    "dfp = pd.read_csv(\"non-contained-prc-gene-counts.txt\", sep=\"\\t\", header=None, names=['readlength', 'non-phased'])\n",
    "dfp[\"phased-frac\"] = (19976 - dfp[\"non-phased\"]) / 19976"
   ]
  },
  {
   "cell_type": "code",
   "execution_count": 4,
   "metadata": {},
   "outputs": [
    {
     "data": {
      "image/png": "[encoded data removed]",
      "text/plain": [
       "<Figure size 432x288 with 1 Axes>"
      ]
     },
     "metadata": {
      "needs_background": "light"
     },
     "output_type": "display_data"
    }
   ],
   "source": [
    "plt.figure()\n",
    "ax = plt.gca()\n",
    "ax.scatter(x=dfg[\"readlength\"],\n",
    "                   y=dfg[\"phased-frac\"],\n",
    "                   marker='+',\n",
    "                   label='All genes')\n",
    "ax.scatter(x=dfp[\"readlength\"],\n",
    "                   y=dfp[\"phased-frac\"],\n",
    "                   marker='.',\n",
    "                   label='Protein-coding genes')\n",
    "ax.set_xscale('log')\n",
    "plt.xlabel(\"Read length (log-transformed)\")\n",
    "plt.ylabel(\"Fraction fully phased genes\")\n",
    "plt.legend(loc=\"lower right\")\n",
    "plt.title('Fraction of genes fully contained in a phase block')\n",
    "plt.ylim(0, 1)\n",
    "plt.tight_layout()\n",
    "plt.savefig(\"Genes_contained_phase_block.png\", dpi=500)"
   ]
  },
  {
   "cell_type": "code",
   "execution_count": null,
   "metadata": {},
   "outputs": [],
   "source": []
  }
 ],
 "metadata": {
  "kernelspec": {
   "display_name": "Python 3",
   "language": "python",
   "name": "python3"
  },
  "language_info": {
   "codemirror_mode": {
    "name": "ipython",
    "version": 3
   },
   "file_extension": ".py",
   "mimetype": "text/x-python",
   "name": "python",
   "nbconvert_exporter": "python",
   "pygments_lexer": "ipython3",
   "version": "3.6.6"
  }
 },
 "nbformat": 4,
 "nbformat_minor": 2
}
